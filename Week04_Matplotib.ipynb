{
 "cells": [
  {
   "cell_type": "code",
   "execution_count": null,
   "id": "dad06a92",
   "metadata": {},
   "outputs": [],
   "source": [
    "#@author : Kevin Saputra 2473011\n",
    "#Bar Plot\n",
    "import matplotib\n",
    "import matplotib.pyplot as plt\n",
    "import numpy as np\n",
    "\n",
    "print(matplotib.__version__)\n",
    "print(np.__version__)"
   ]
  },
  {
   "cell_type": "code",
   "execution_count": null,
   "id": "2cf28152",
   "metadata": {},
   "outputs": [],
   "source": [
    "#Simple Bar plot\n",
    "data=[25,45,55,125,225]\n",
    "kategori = ['A','B','C','D','E',]"
   ]
  },
  {
   "cell_type": "code",
   "execution_count": null,
   "id": "c9504fd4",
   "metadata": {},
   "outputs": [],
   "source": [
    "plt.bar(kategori,data)\n",
    "plt.grid()\n",
    "\n",
    "plt.xlabel('Kategori')\n",
    "plt.ylabel('Jumlah')\n",
    "plt.tittle('Contoh Bar Plot')\n",
    "\n",
    "plt.show()"
   ]
  },
  {
   "cell_type": "code",
   "execution_count": null,
   "id": "5a849982",
   "metadata": {},
   "outputs": [],
   "source": [
    "#Pengaturan Grid dan Color\n",
    "data=[25,45,55,125,225]\n",
    "kategori = ['A','B','C','D','E']"
   ]
  },
  {
   "cell_type": "code",
   "execution_count": null,
   "id": "c32d9702",
   "metadata": {},
   "outputs": [],
   "source": [
    "plt.bar(kategori,\n",
    "        data,\n",
    "        color='red',\n",
    "        alpha=0.25)\n",
    "\n",
    "plt.grid(linestyle='--',\n",
    "         linewidth=2,\n",
    "         axis='y', #pilihan:x,y,both\n",
    "         alpha=0.50)\n",
    "\n",
    "plt.xlabel('Kategori')\n",
    "plt.ylabel('JUmlah')\n",
    "plt.title('Contoh Bar Plot')\n",
    "\n",
    "plt.show()\n",
    "\n"
   ]
  },
  {
   "cell_type": "code",
   "execution_count": null,
   "id": "72675352",
   "metadata": {},
   "outputs": [],
   "source": [
    "#Horisontal Bar Plot\n",
    "data=[25,45,55,125,225]\n",
    "kategori = ['A','B','C','D','E']"
   ]
  },
  {
   "cell_type": "code",
   "execution_count": null,
   "id": "21f3f36d",
   "metadata": {},
   "outputs": [],
   "source": [
    "plt.barh(kategori, data)\n",
    "plt.grid(linestyle='--',\n",
    "         linewidth=1,\n",
    "         axis='x', \n",
    "         alpha=0.75)\n",
    "\n",
    "plt.xlabel('Kategori')\n",
    "plt.ylabel('JUmlah')\n",
    "plt.title('Contoh Horisontal Bar Plot')\n",
    "\n",
    "plt.show()\n"
   ]
  },
  {
   "cell_type": "code",
   "execution_count": null,
   "id": "2e5b28b8",
   "metadata": {},
   "outputs": [],
   "source": [
    "plt.barh(kategori, data)\n",
    "plt.barch(kategori[::-1], data[::-1])\n",
    "plt.grid(linestyle='--',\n",
    "         linewidth=1,\n",
    "         axis='x', \n",
    "         alpha=0.75)\n",
    "\n",
    "plt.xlabel('Kategori')\n",
    "plt.ylabel('JUmlah')\n",
    "plt.title('Contoh Horisontal Bar Plot')\n",
    "\n",
    "plt.show()"
   ]
  },
  {
   "cell_type": "code",
   "execution_count": null,
   "id": "53e5ecf1",
   "metadata": {},
   "outputs": [],
   "source": [
    "#Stacked Bar Plot\n",
    "data1 = [25,85,75,40,60]\n",
    "data2 = [40,35,20,55,10]\n",
    "kategori = ['A','B','C','D','E']"
   ]
  },
  {
   "cell_type": "code",
   "execution_count": null,
   "id": "e0442731",
   "metadata": {},
   "outputs": [],
   "source": [
    "plt.bar(kategori, data1, label='Data 1')\n",
    "plt.bar(kategori, data2, label='Data 2', bottom=data1)\n",
    "\n",
    "plt.legend()\n",
    "\n",
    "plt.grid(linestyle='--',\n",
    "         linewidth=1,\n",
    "         axis='x', \n",
    "         alpha=0.75)\n",
    "\n",
    "plt.xlabel('Kategori')\n",
    "plt.ylabel('JUmlah')\n",
    "plt.title('Contoh Stacked Bar Plot')\n",
    "\n",
    "plt.show()"
   ]
  },
  {
   "cell_type": "code",
   "execution_count": null,
   "id": "0e73851a",
   "metadata": {},
   "outputs": [],
   "source": [
    "plt.bar(kategori, data2, label='Data 2')\n",
    "plt.bar(kategori, data1, label='Data 1')\n",
    "\n",
    "plt.legend()\n",
    "\n",
    "plt.grid(linestyle='--',\n",
    "         linewidth=1,\n",
    "         axis='x', \n",
    "         alpha=0.75)\n",
    "\n",
    "plt.xlabel('Kategori')\n",
    "plt.ylabel('JUmlah')\n",
    "plt.title('Contoh Stacked Bar Plot')\n",
    "\n",
    "plt.show()"
   ]
  },
  {
   "cell_type": "code",
   "execution_count": null,
   "id": "0e2c781e",
   "metadata": {},
   "outputs": [],
   "source": [
    "#Grouped Bar Plot\n",
    "data1 = [25,85,75,40,60]\n",
    "data2 = [40,35,20,55,10]\n",
    "kategori = ['A','B','C','D','E']\n",
    "\n",
    "x=np.arange(lean(kategori))\n",
    "x"
   ]
  },
  {
   "cell_type": "code",
   "execution_count": null,
   "id": "a422eb9a",
   "metadata": {},
   "outputs": [],
   "source": [
    "width=0.35\n",
    "plt.bar(x-width/2,data1,width, label='Data 1')\n",
    "plt.bar(x-width/2,data2,width, label='Data 2')\n",
    "\n",
    "plt.xticks(x, kategori)\n",
    "\n",
    "plt.grid(linestyle='--',\n",
    "         linewidth=1,\n",
    "         axis='x', \n",
    "         alpha=0.75)\n",
    "\n",
    "plt.xlabel('Kategori')\n",
    "plt.ylabel('JUmlah')\n",
    "plt.title('Contoh Grouped Bar Plot')\n",
    "\n",
    "plt.legend()\n",
    "plt.show()\n"
   ]
  },
  {
   "cell_type": "code",
   "execution_count": null,
   "id": "c808493a",
   "metadata": {},
   "outputs": [],
   "source": [
    "#Simple Pie Plot\n",
    "kategori = ['A','B','C','D','E']\n",
    "data=[25,45,55,125,225]"
   ]
  },
  {
   "cell_type": "code",
   "execution_count": null,
   "id": "8965b858",
   "metadata": {},
   "outputs": [],
   "source": [
    "plt.pie(data, \n",
    "        labels=kategori,\n",
    "        autopct='%1.1f%%',\n",
    "        startangle=90)\n",
    "\n",
    "plt.title('Contoh Pie Plot')\n",
    "\n",
    "plt.show()"
   ]
  },
  {
   "cell_type": "code",
   "execution_count": null,
   "id": "e2ac9f35",
   "metadata": {},
   "outputs": [],
   "source": [
    "#Pengaturan Legend dan Color\n",
    "kategori = ['A', 'B', 'C', 'D', 'E']\n",
    "data = [215, 130, 245, 210, 225]\n",
    "warna = ['pink', 'cyan', '#e03364', 'yellowgreen', 'skyblue']"
   ]
  },
  {
   "cell_type": "code",
   "execution_count": null,
   "id": "4da729e3",
   "metadata": {},
   "outputs": [],
   "source": [
    "plt.pie(data, \n",
    "        labels=kategori,\n",
    "        colors=warna,\n",
    "        autopct='%1.1f%%',\n",
    "        startangle=90)\n",
    "\n",
    "plt.legend()\n",
    "plt.title('Contoh Pie Plot')\n",
    "\n",
    "plt.show()"
   ]
  },
  {
   "cell_type": "code",
   "execution_count": null,
   "id": "f4ad9573",
   "metadata": {},
   "outputs": [],
   "source": [
    "#Exploded Pie Plot\n",
    "kategori = ['A', 'B', 'C', 'D', 'E']\n",
    "data = [215, 130, 245, 210, 225]\n",
    "warna = ['pink', 'cyan', '#e03364', 'yellowgreen', 'skyblue']\n",
    "explode_var = [0., 0., 0.2, 0., 0.08]"
   ]
  },
  {
   "cell_type": "code",
   "execution_count": null,
   "id": "c740a119",
   "metadata": {},
   "outputs": [],
   "source": [
    "plt.pie(data, \n",
    "        labels=kategori,\n",
    "        colors=warna,\n",
    "        explode=explode_var,\n",
    "        autopct='%1.1f%%',\n",
    "        startangle=90)\n",
    "\n",
    "plt.title('Contoh Exploded Pie Plot')\n",
    "\n",
    "plt.show()"
   ]
  }
 ],
 "metadata": {
  "language_info": {
   "name": "python"
  }
 },
 "nbformat": 4,
 "nbformat_minor": 5
}
