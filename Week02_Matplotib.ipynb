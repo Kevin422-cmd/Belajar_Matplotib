{
 "cells": [
  {
   "cell_type": "code",
   "execution_count": null,
   "id": "478dcd61",
   "metadata": {},
   "outputs": [],
   "source": [
    "#@author : Kevin Saputra 2473011\n",
    "#Pengenalan pyplot\n",
    "%matplotib inline\n",
    "import matplotib\n",
    "import matplotib.pyplot as plt\n",
    "import numpy as np\n",
    "\n",
    "print(matplotib.__version__)\n",
    "print(np.__version__)"
   ]
  },
  {
   "cell_type": "code",
   "execution_count": null,
   "id": "509553d1",
   "metadata": {},
   "outputs": [],
   "source": [
    "#Membuat plotting sederhana\n",
    "plt.plot[2,5,7,11]\n",
    "plt.ylabel('sumbu y')\n",
    "plt.show()"
   ]
  },
  {
   "cell_type": "code",
   "execution_count": null,
   "id": "56d3f03d",
   "metadata": {},
   "outputs": [],
   "source": [
    "plt.plot([2,3,4,7], [5,4,2,16])\n",
    "plt.show()"
   ]
  },
  {
   "cell_type": "code",
   "execution_count": null,
   "id": "e968fd9d",
   "metadata": {},
   "outputs": [],
   "source": [
    "#Pengaturan format pada plot\n",
    "plt.plot([1,2,3,4], [1,4,9,16], 'ro')\n",
    "plt.axis([0,6,0,20])\n",
    "plt.show()"
   ]
  },
  {
   "cell_type": "code",
   "execution_count": null,
   "id": "e5522444",
   "metadata": {},
   "outputs": [],
   "source": [
    "#Multi plot dalam satu pemanggilan fungsi plot()\n",
    "t= np.arange(0.,5.,0.2)\n",
    "t"
   ]
  },
  {
   "cell_type": "code",
   "execution_count": null,
   "id": "8e339c55",
   "metadata": {},
   "outputs": [],
   "source": [
    "plt.plot(t, t, 'r--')\n",
    "plt.plot(t, t**2, 'bs')\n",
    "plt.plot(t, t**3, 'g^')\n",
    "plt.show()"
   ]
  },
  {
   "cell_type": "code",
   "execution_count": null,
   "id": "9ffaba6c",
   "metadata": {},
   "outputs": [],
   "source": [
    "plt.plot(t, t, 'r--'\n",
    "plt.plot t, t**2, 'bs'\n",
    "plt.plot t, t**3, 'g^')\n",
    "plt.show()"
   ]
  },
  {
   "cell_type": "code",
   "execution_count": null,
   "id": "062742fd",
   "metadata": {},
   "outputs": [],
   "source": [
    "#Plotting dengan keywords\n",
    "data={'a': np.arange(50),\n",
    "      'c': np.random.radint(0,50,50),\n",
    "      'd': np.random.randn(50)}\n",
    "data['b']=data['a']+10*np.random.randn(50)\n",
    "data['d']=np.abs(data['d'])*100\n",
    "\n",
    "data"
   ]
  },
  {
   "cell_type": "code",
   "execution_count": null,
   "id": "c3f636da",
   "metadata": {},
   "outputs": [],
   "source": [
    "plt.scatter('a', 'b', data=data)\n",
    "plt.xlabel('entry a')\n",
    "plt.ylabel('entry b')\n",
    "plt.show()"
   ]
  },
  {
   "cell_type": "code",
   "execution_count": null,
   "id": "de162762",
   "metadata": {},
   "outputs": [],
   "source": [
    "plt.scatter('a','b', c='c', s='d', data=data)\n",
    "plt.xlabel('entry a')\n",
    "plt.ylabel('entry b')\n",
    "plt.show()"
   ]
  },
  {
   "cell_type": "code",
   "execution_count": null,
   "id": "13e49d8f",
   "metadata": {},
   "outputs": [],
   "source": [
    "#Plotting untuk tipe data categorical\n",
    "names=['group_a', 'group_b', 'forup_c']\n",
    "values=[1,10,100]"
   ]
  },
  {
   "cell_type": "code",
   "execution_count": null,
   "id": "a82152ac",
   "metadata": {},
   "outputs": [],
   "source": [
    "plt.plot(names,values)\n",
    "plt.show()"
   ]
  },
  {
   "cell_type": "code",
   "execution_count": null,
   "id": "296bec30",
   "metadata": {},
   "outputs": [],
   "source": [
    "plt.scatter(names,values)\n",
    "plt.show()"
   ]
  },
  {
   "cell_type": "code",
   "execution_count": null,
   "id": "336a5ac4",
   "metadata": {},
   "outputs": [],
   "source": [
    "plt.bar(names,values)\n",
    "plt.show()"
   ]
  }
 ],
 "metadata": {
  "language_info": {
   "name": "python"
  }
 },
 "nbformat": 4,
 "nbformat_minor": 5
}
