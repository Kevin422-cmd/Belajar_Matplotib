{
 "cells": [
  {
   "cell_type": "code",
   "execution_count": null,
   "id": "167d2179",
   "metadata": {},
   "outputs": [],
   "source": [
    "#@author : Kevin Saputra 2473011\n",
    "#Pengenalan pyplot\n",
    "%matplotib inline\n",
    "import matplotib\n",
    "import matplotib.pyplot as plt\n",
    "import numpy as np\n",
    "\n",
    "print(matplotib.__version__)\n",
    "print(np.__version__)"
   ]
  },
  {
   "cell_type": "code",
   "execution_count": null,
   "id": "e777ac4a",
   "metadata": {},
   "outputs": [],
   "source": [
    "#Simple Line Plot\n",
    "x = np.arange(0.0, 2.0, 0.01)\n",
    "x"
   ]
  },
  {
   "cell_type": "code",
   "execution_count": null,
   "id": "4882c915",
   "metadata": {},
   "outputs": [],
   "source": [
    "s = np.sin(2*np.pi*x)\n",
    "s"
   ]
  },
  {
   "cell_type": "code",
   "execution_count": null,
   "id": "7194d9a7",
   "metadata": {},
   "outputs": [],
   "source": [
    "fig, ax= plt.subplots() #00 Style\n",
    "ax.plot(x,s)\n",
    "ax.set(xlable='nilai x',\n",
    "        ylabel= 'nilai sin(x)',\n",
    "        title='Visualisasi nilai sin')\n",
    "ax.grid()\n",
    "plt.show()"
   ]
  },
  {
   "cell_type": "code",
   "execution_count": null,
   "id": "55e9c39d",
   "metadata": {},
   "outputs": [],
   "source": [
    "#Multiple Subplots\n",
    "x1= np.linspace(0.0, 5.0, 100)\n",
    "x2= np.linespace(0.0, 2.0, 100)\n",
    "\n",
    "y1=np.cos(2*np.pi*x1)\n",
    "y2=np.cos(2*np.pi*x2)\n",
    "x1"
   ]
  },
  {
   "cell_type": "code",
   "execution_count": null,
   "id": "eafd4970",
   "metadata": {},
   "outputs": [],
   "source": [
    "#Multiple Subplots dengan OO Style\n",
    "fig, (ax1, ax2)= plt.subplots(2,1)\n",
    "fig.suptitle('Multiple Subplots')\n",
    "\n",
    "ax1.plot(x1, y1, 'ro-')\n",
    "ax1.set_ylabel('Nilai cos(x1)')\n",
    "\n",
    "ax2.plot(x2, y2, 'g.-')\n",
    "ax2.set_ylabel('Nilai cos(x2)')\n",
    "ax2.set_xlabel('Nilai x')\n",
    "plt.show()"
   ]
  },
  {
   "cell_type": "code",
   "execution_count": null,
   "id": "7c0535e2",
   "metadata": {},
   "outputs": [],
   "source": [
    "#Multiple subplots dengan pyplot style\n",
    "plt.subplot(2,1,1)\n",
    "plt.plot(x1,y1, 'ro-')\n",
    "plt.title('Multiple Subplots')\n",
    "plt.ylabel('Nilai $cos(x_1)$')\n",
    "plt.xlabel('Nilai $x$')\n",
    "plt.show"
   ]
  },
  {
   "cell_type": "code",
   "execution_count": null,
   "id": "4c1d91e5",
   "metadata": {},
   "outputs": [],
   "source": [
    "#04 Histogram\n",
    "mu, sigma = 100, 15 # nilai mean dan nilai standard devation\n",
    "x= mu + sigma * np.random.radn(10000) # normal distribution \n",
    "x\n",
    "x.shape"
   ]
  },
  {
   "cell_type": "code",
   "execution_count": null,
   "id": "0e870f20",
   "metadata": {},
   "outputs": [],
   "source": [
    "# Histrogram dengan pyplot Style\n",
    "plt.hist(x,\n",
    "        bins=50\n",
    "        facecolor='g',\n",
    "        alpha=0.75)\n",
    "\n",
    "plt.xlabel('Sumbu X')\n",
    "plt.ylabel('Sumbu Y')\n",
    "plt.tittle('Contoh Histogram')\n",
    "\n",
    "plt.text(45, 500, r'$\\mu=100,\\ \\sigma=15$')\n",
    "plt.grid()\n",
    "plt.show()"
   ]
  },
  {
   "cell_type": "code",
   "execution_count": null,
   "id": "1043fa34",
   "metadata": {},
   "outputs": [],
   "source": [
    "#Histogram dengan OO Style\n",
    "fig, ax = plt.subplots()\n",
    "plt.hist(x,\n",
    "        bins=50\n",
    "        facecolor='r',\n",
    "        alpha=0.75)\n",
    "\n",
    "plt.xlabel('Sumbu X')\n",
    "plt.ylabel('Sumbu Y')\n",
    "plt.tittle('Contoh Histogram')\n",
    "\n",
    "plt.text(45, 500, r'$\\mu=100,\\ \\sigma=15$')\n",
    "plt.grid()\n",
    "\n",
    "plt.show()"
   ]
  },
  {
   "cell_type": "code",
   "execution_count": null,
   "id": "57ed441d",
   "metadata": {},
   "outputs": [],
   "source": [
    "fig, ax = plt.subplots()\n",
    "plt.hist(x,\n",
    "        bins=50\n",
    "        facecolor='b',\n",
    "        alpha=0.25)\n",
    "\n",
    "plt.xlabel('Sumbu X')\n",
    "plt.ylabel('Sumbu Y')\n",
    "plt.tittle('Contoh Histogram')\n",
    "\n",
    "plt.text(45, 500, r'$\\mu=100,\\ \\sigma=15$')\n",
    "plt.grid()\n",
    "\n",
    "plt.show()"
   ]
  }
 ],
 "metadata": {
  "language_info": {
   "name": "python"
  }
 },
 "nbformat": 4,
 "nbformat_minor": 5
}
