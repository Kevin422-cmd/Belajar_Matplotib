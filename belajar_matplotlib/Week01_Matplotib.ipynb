{
 "cells": [
  {
   "cell_type": "code",
   "execution_count": null,
   "id": "3c2021b7",
   "metadata": {},
   "outputs": [],
   "source": [
    "#@author : Kevin Saputra 2473011\n",
    "\n",
    "import matplotlib.pyplot as plt\n",
    "import numpy as np"
   ]
  },
  {
   "cell_type": "code",
   "execution_count": null,
   "id": "2e9f1dc7",
   "metadata": {},
   "outputs": [],
   "source": [
    "# Membuat Plotting sederhana\n",
    "x = [1,2,3,4]\n",
    "y = [1,4,2,3]\n",
    "\n",
    "fig, ax = plt.subplots()\n",
    "ax.plot(x,y)"
   ]
  },
  {
   "cell_type": "code",
   "execution_count": null,
   "id": "b8e7dad3",
   "metadata": {},
   "outputs": [],
   "source": [
    "# persiapan sample data\n",
    "x = [1,2,3,4]\n",
    "y = [1,4,2,3]\n",
    "\n",
    "plt.plot(x,y)"
   ]
  },
  {
   "cell_type": "code",
   "execution_count": null,
   "id": "41e92a68",
   "metadata": {},
   "outputs": [],
   "source": [
    "# Beberapa cara untuk membuat figure\n",
    "fig = plt.figure() \n",
    "fig, ax = plt.subplots()\n",
    "fig, ax =plt.subplots(2,3)\n"
   ]
  },
  {
   "cell_type": "code",
   "execution_count": null,
   "id": "6589fcfd",
   "metadata": {},
   "outputs": [],
   "source": [
    "# Object Oriented style untuk melakukan plotting\n",
    "x=np.linspace(0,2,100)\n",
    "fig,ax = plt.subplots()\n",
    "ax.plot(x,x, label='linear')\n",
    "ax.plot(x,x**2, label='quadratic')\n",
    "ax.plot(x,x**3, label='cubic')\n",
    "\n",
    "ax.set_xlabel('x label')\n",
    "ax.set_ylabel('y label')\n",
    "ax.set_title(\"Simple Plot\")\n",
    "ax.legend()"
   ]
  }
 ],
 "metadata": {
  "language_info": {
   "name": "python"
  }
 },
 "nbformat": 4,
 "nbformat_minor": 5
}
